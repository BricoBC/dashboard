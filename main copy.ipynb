{
 "cells": [
  {
   "cell_type": "code",
   "execution_count": 1,
   "metadata": {},
   "outputs": [
    {
     "name": "stdout",
     "output_type": "stream",
     "text": [
      "Requirement already satisfied: pandas in ./venv/lib/python3.10/site-packages (2.1.1)\n",
      "Requirement already satisfied: pytz>=2020.1 in ./venv/lib/python3.10/site-packages (from pandas) (2023.3.post1)\n",
      "Requirement already satisfied: python-dateutil>=2.8.2 in ./venv/lib/python3.10/site-packages (from pandas) (2.8.2)\n",
      "Requirement already satisfied: numpy>=1.22.4 in ./venv/lib/python3.10/site-packages (from pandas) (1.26.1)\n",
      "Requirement already satisfied: tzdata>=2022.1 in ./venv/lib/python3.10/site-packages (from pandas) (2023.3)\n",
      "Requirement already satisfied: six>=1.5 in ./venv/lib/python3.10/site-packages (from python-dateutil>=2.8.2->pandas) (1.16.0)\n",
      "Note: you may need to restart the kernel to use updated packages.\n"
     ]
    }
   ],
   "source": [
    "pip install pandas"
   ]
  },
  {
   "cell_type": "code",
   "execution_count": 2,
   "metadata": {},
   "outputs": [],
   "source": [
    "import pandas as pd\n",
    "import numpy as np"
   ]
  },
  {
   "cell_type": "code",
   "execution_count": 3,
   "metadata": {},
   "outputs": [],
   "source": [
    "df_data_all = pd.read_csv(\"./KPIs.csv\")"
   ]
  },
  {
   "cell_type": "code",
   "execution_count": 4,
   "metadata": {},
   "outputs": [],
   "source": [
    "# Elimino las últimas tres columnas\n",
    "df_data = df_data_all.iloc[ : , :-3]"
   ]
  },
  {
   "cell_type": "code",
   "execution_count": 5,
   "metadata": {},
   "outputs": [
    {
     "data": {
      "text/plain": [
       "array(['CATEGORIA', 'TEMA', 'DATO BUSCADO', '¿Se tiene?', 'ORIGEN',\n",
       "       'Campo agregado', 'Nombre del campo'], dtype=object)"
      ]
     },
     "execution_count": 5,
     "metadata": {},
     "output_type": "execute_result"
    }
   ],
   "source": [
    "# Convierto los nombres de las columnas en un arreglo\n",
    "arr_columns = df_data.columns.to_numpy()\n",
    "arr_columns"
   ]
  },
  {
   "cell_type": "markdown",
   "metadata": {},
   "source": [
    "# FILTRACIÓN POR LA COLUMNA CATEGORIA"
   ]
  },
  {
   "cell_type": "code",
   "execution_count": 6,
   "metadata": {},
   "outputs": [
    {
     "data": {
      "text/plain": [
       "array(['Cap 1000', 'Energía eléctrica', 'Suministro de Agua',\n",
       "       'Servicios Profesionales', 'Viáticos', 'Orden social', 'Inmuebles',\n",
       "       'Papeleria', 'Alimentos', 'TI'], dtype=object)"
      ]
     },
     "execution_count": 6,
     "metadata": {},
     "output_type": "execute_result"
    }
   ],
   "source": [
    "#Obtengo todas las categorias que existen\n",
    "categories = df_data['CATEGORIA'].unique()\n",
    "categories"
   ]
  },
  {
   "cell_type": "code",
   "execution_count": 7,
   "metadata": {},
   "outputs": [],
   "source": [
    "#Trabajo unicamente con la categoria de la posicion 3\n",
    "category = categories[3]"
   ]
  },
  {
   "cell_type": "markdown",
   "metadata": {},
   "source": [
    "## TEMA"
   ]
  },
  {
   "cell_type": "code",
   "execution_count": 59,
   "metadata": {},
   "outputs": [],
   "source": [
    "#Creo una función que me regresa todos los tema de una categoria\n",
    "def temas(category):\n",
    "    \"\"\"\n",
    "    Está función es para obtener todos los temas en forma de un arreglo que contenga la categoria enviada en el parametro.\n",
    "    \"\"\"\n",
    "    df_data[df_data['CATEGORIA'] == category]\n",
    "    arr_tema = df_data[df_data['CATEGORIA'] == category]['TEMA'].unique()\n",
    "    return arr_tema"
   ]
  },
  {
   "cell_type": "code",
   "execution_count": 17,
   "metadata": {},
   "outputs": [],
   "source": [
    "def filter_column(data, column_of_value, value, column_filter):\n",
    "    \"\"\"\n",
    "    Se va a filtar todos los datos con respecto al valor de una columna proporcionada, \n",
    "    pero únicamente se va a mostrar los valores de la columna filtrada.\n",
    "    ES NECESARIO QUE EN DATA SEA TODA LA TABLA DE LOS DATOS.\n",
    "    COLUMN_OF_VALUE es únicamente el nombre la columna.\n",
    "    COLUMN_FILTER es únicamente el nombre la columna.\n",
    "    \"\"\"\n",
    "    print(data[ data[column_of_value] == value][column_filter])\n",
    "    # arr_tema = data[column_of_value == value][column_filter].unique()\n",
    "    # return arr_tema\n"
   ]
  },
  {
   "cell_type": "code",
   "execution_count": 18,
   "metadata": {},
   "outputs": [
    {
     "name": "stdout",
     "output_type": "stream",
     "text": [
      "25    Contratos\n",
      "26    Contratos\n",
      "27    Contratos\n",
      "28    Contratos\n",
      "29    Contratos\n",
      "30    Contratos\n",
      "31    Contratos\n",
      "32    Contratos\n",
      "33    Contratos\n",
      "34    Contratos\n",
      "35    Contratos\n",
      "Name: TEMA, dtype: object\n",
      "None\n"
     ]
    }
   ],
   "source": [
    "arr = filter_column(df_data,'CATEGORIA', category, 'TEMA')\n",
    "print(arr)"
   ]
  },
  {
   "cell_type": "code",
   "execution_count": 61,
   "metadata": {},
   "outputs": [
    {
     "data": {
      "text/plain": [
       "'Contratos'"
      ]
     },
     "execution_count": 61,
     "metadata": {},
     "output_type": "execute_result"
    }
   ],
   "source": [
    "tema = arr[0]\n",
    "tema"
   ]
  },
  {
   "cell_type": "markdown",
   "metadata": {},
   "source": [
    "# Datos"
   ]
  },
  {
   "cell_type": "code",
   "execution_count": 109,
   "metadata": {},
   "outputs": [],
   "source": [
    "def data(category, tema):\n",
    "    data_total = df_data['¿Se tiene?'].loc[(df_data['CATEGORIA'] == category) & (df_data['TEMA'] == tema)].size\n",
    "    data_without_information = data_without_information = df_data['¿Se tiene?'].loc[(df_data['CATEGORIA'] == category) & (df_data['TEMA'] == tema) & (df_data['¿Se tiene?'] == 'No') ].count()\n",
    "    data_information = data_total - data_without_information\n",
    "    return data_total, data_without_information, data_information\n"
   ]
  },
  {
   "cell_type": "code",
   "execution_count": 108,
   "metadata": {},
   "outputs": [
    {
     "name": "stdout",
     "output_type": "stream",
     "text": [
      "2\n",
      "2\n"
     ]
    }
   ],
   "source": [
    "tema = 'Congresos'\n",
    "category = 'Orden social'\n",
    "\n",
    "data_total = df_data['¿Se tiene?'].loc[(df_data['CATEGORIA'] == category) & (df_data['TEMA'] == tema)].size\n",
    "data_without_information = df_data['¿Se tiene?'].loc[(df_data['CATEGORIA'] == category) & (df_data['TEMA'] == tema) & (df_data['¿Se tiene?'] == 'No') ].count()\n",
    "\n",
    "print(data_total)\n",
    "print(data_without_information)"
   ]
  },
  {
   "cell_type": "code",
   "execution_count": 96,
   "metadata": {},
   "outputs": [
    {
     "name": "stdout",
     "output_type": "stream",
     "text": [
      "4 1 3\n",
      "\n",
      "\n",
      "2 0 2\n",
      "\n",
      "\n",
      "2 1 1\n",
      "\n",
      "\n",
      "2 1 1\n",
      "\n",
      "\n"
     ]
    }
   ],
   "source": [
    "#data(category,tema)\n",
    "\n",
    "them=dashboard['Tema']\n",
    "for j in range(theme.size):\n",
    "    print(data(category, theme[j])[0], data(category, theme[j])[1],data(category, theme[j])[2])\n",
    "    print()"
   ]
  },
  {
   "cell_type": "markdown",
   "metadata": {},
   "source": [
    "# FUENTE DE INFORMACIÓN"
   ]
  },
  {
   "cell_type": "code",
   "execution_count": 64,
   "metadata": {},
   "outputs": [],
   "source": [
    "def source_information(category):\n",
    "    \"\"\"\n",
    "    Esta función es para obtener la fuente de información de todos los temas que tiene la categoria.\n",
    "    \"\"\"\n",
    "    source_information = df_data['ORIGEN'].loc[(df_data['CATEGORIA'] == category)].unique()\n",
    "    return source_information"
   ]
  },
  {
   "cell_type": "markdown",
   "metadata": {},
   "source": [
    "# Prueba de todo el código anterior"
   ]
  },
  {
   "cell_type": "code",
   "execution_count": 110,
   "metadata": {},
   "outputs": [
    {
     "name": "stdout",
     "output_type": "stream",
     "text": [
      "['Cap 1000' 'Energía eléctrica' 'Suministro de Agua'\n",
      " 'Servicios Profesionales' 'Viáticos' 'Orden social' 'Inmuebles'\n",
      " 'Papeleria' 'Alimentos' 'TI']\n",
      "{'Categoria': 'Orden social', 'Tema': array(['Costo', 'Eventos', 'Congresos', 'Capacitación'], dtype=object), 'Datos': [4, 2, 2, 2], 'Datos_con_informacion': [3, 2, 0, 0], 'Datos_sin_informacion': [1, 0, 2, 2], 'Source_information': array(['Facturas', nan], dtype=object)}\n"
     ]
    }
   ],
   "source": [
    "dashboard = {\n",
    "        \"Categoria\": \"\",\n",
    "        \"Tema\": [],\n",
    "        \"Datos\": [],\n",
    "        \"Datos_con_informacion\": [],\n",
    "        \"Datos_sin_informacion\": [],\n",
    "        \"Source_information\": \"\"\n",
    "    }\n",
    "df_data_all = pd.read_csv(\"./KPIs.csv\")\n",
    "        # Elimino las últimas tres columnas\n",
    "df_data = df_data_all.iloc[ : , :-3]\n",
    "        #Todas las Categorias\n",
    "categories = df_data['CATEGORIA'].unique()\n",
    "print(categories)\n",
    "\n",
    "category = categories[5]\n",
    "arr_datos, arr_without_data, arr_with_data = 0,0,0\n",
    "\n",
    "dashboard['Categoria'] = category\n",
    "theme = temas(category)\n",
    "\n",
    "dashboard['Tema'] = theme\n",
    "for j in range(theme.size):\n",
    "    dashboard['Datos'].append(data(category, theme[j])[0])\n",
    "    dashboard['Datos_sin_informacion'].append(data(category, theme[j])[1])\n",
    "    dashboard['Datos_con_informacion'].append(data(category, theme[j])[2])\n",
    "dashboard['Source_information'] = source_information(category)\n",
    "\n",
    "print(dashboard)"
   ]
  },
  {
   "cell_type": "code",
   "execution_count": 91,
   "metadata": {},
   "outputs": [
    {
     "name": "stdout",
     "output_type": "stream",
     "text": [
      "{'Categoria': 'Orden social', 'Tema': array(['Costo', 'Eventos', 'Congresos', 'Capacitación'], dtype=object), 'Datos': [4, 2, 2, 2], 'Datos_con_informacion': [3, 2, 1, 1], 'Datos_sin_informacion': [1, 0, 1, 1], 'Source_information': array(['Facturas', nan], dtype=object)}\n"
     ]
    }
   ],
   "source": [
    "print(dashboard)"
   ]
  },
  {
   "cell_type": "code",
   "execution_count": 89,
   "metadata": {},
   "outputs": [],
   "source": [
    "def percentage(dashboard):\n",
    "    \"\"\"\n",
    "    Función que me regresa el porcentaje de los datos con información y sin información de un tema\n",
    "    \"\"\"\n",
    "    arr_percentage_without_information = []\n",
    "    arr_percentage_with_information = []\n",
    "    for i in range(len(dashboard['Datos'])):\n",
    "        porcentaje_con_informacion = (dashboard['Datos_con_informacion'][i]*100)/dashboard['Datos'][i]\n",
    "        porcentaje_sin_informacion = 100-porcentaje_con_informacion\n",
    "        print(porcentaje_con_informacion, porcentaje_sin_informacion)\n",
    "        arr_percentage_without_information.append(porcentaje_sin_informacion)\n",
    "        arr_percentage_with_information.append(porcentaje_con_informacion)\n",
    "    return arr_percentage_with_information, arr_percentage_without_information\n"
   ]
  },
  {
   "cell_type": "code",
   "execution_count": 111,
   "metadata": {},
   "outputs": [
    {
     "name": "stdout",
     "output_type": "stream",
     "text": [
      "75.0 25.0\n",
      "100.0 0.0\n",
      "0.0 100.0\n",
      "0.0 100.0\n"
     ]
    },
    {
     "data": {
      "text/plain": [
       "([75.0, 100.0, 0.0, 0.0], [25.0, 0.0, 100.0, 100.0])"
      ]
     },
     "execution_count": 111,
     "metadata": {},
     "output_type": "execute_result"
    }
   ],
   "source": [
    "\n",
    "percentage(dashboard)\n",
    "\n"
   ]
  },
  {
   "cell_type": "markdown",
   "metadata": {},
   "source": [
    "## Gráficación\n"
   ]
  },
  {
   "cell_type": "code",
   "execution_count": 69,
   "metadata": {},
   "outputs": [
    {
     "name": "stdout",
     "output_type": "stream",
     "text": [
      "Requirement already satisfied: matplotlib in ./venv/lib/python3.10/site-packages (3.8.0)\n",
      "Requirement already satisfied: kiwisolver>=1.0.1 in ./venv/lib/python3.10/site-packages (from matplotlib) (1.4.5)\n",
      "Requirement already satisfied: numpy<2,>=1.21 in ./venv/lib/python3.10/site-packages (from matplotlib) (1.26.1)\n",
      "Requirement already satisfied: python-dateutil>=2.7 in ./venv/lib/python3.10/site-packages (from matplotlib) (2.8.2)\n",
      "Requirement already satisfied: pillow>=6.2.0 in ./venv/lib/python3.10/site-packages (from matplotlib) (10.1.0)\n",
      "Requirement already satisfied: cycler>=0.10 in ./venv/lib/python3.10/site-packages (from matplotlib) (0.12.1)\n",
      "Requirement already satisfied: fonttools>=4.22.0 in ./venv/lib/python3.10/site-packages (from matplotlib) (4.43.1)\n",
      "Requirement already satisfied: packaging>=20.0 in ./venv/lib/python3.10/site-packages (from matplotlib) (23.2)\n",
      "Requirement already satisfied: pyparsing>=2.3.1 in ./venv/lib/python3.10/site-packages (from matplotlib) (3.1.1)\n",
      "Requirement already satisfied: contourpy>=1.0.1 in ./venv/lib/python3.10/site-packages (from matplotlib) (1.1.1)\n",
      "Requirement already satisfied: six>=1.5 in ./venv/lib/python3.10/site-packages (from python-dateutil>=2.7->matplotlib) (1.16.0)\n",
      "Note: you may need to restart the kernel to use updated packages.\n"
     ]
    }
   ],
   "source": [
    "pip install matplotlib"
   ]
  },
  {
   "cell_type": "code",
   "execution_count": 70,
   "metadata": {},
   "outputs": [],
   "source": [
    "import matplotlib.pyplot as plt"
   ]
  },
  {
   "cell_type": "code",
   "execution_count": 71,
   "metadata": {},
   "outputs": [],
   "source": [
    "title = dashboard['Categoria']\n",
    "etiquetas = dashboard['Tema']\n",
    "valores = dashboard['Datos']"
   ]
  },
  {
   "cell_type": "code",
   "execution_count": 72,
   "metadata": {},
   "outputs": [
    {
     "data": {
      "text/plain": [
       "Text(0.5, 1.0, 'Categorias de title Energía eléctrica')"
      ]
     },
     "execution_count": 72,
     "metadata": {},
     "output_type": "execute_result"
    },
    {
     "data": {
      "image/png": "[encoded data removed]",
      "text/plain": [
       "<Figure size 600x600 with 1 Axes>"
      ]
     },
     "metadata": {},
     "output_type": "display_data"
    }
   ],
   "source": [
    "plt.figure(figsize=(6, 6))  # Opcional: ajusta el tamaño de la figura\n",
    "\n",
    "plt.pie(valores, labels=etiquetas, autopct='%1.1f%%', startangle=180)\n",
    "# labels: Etiquetas para cada categoría.\n",
    "# autopct: Formato de las etiquetas mostrando el porcentaje.\n",
    "# startangle: Ángulo inicial de inicio del gráfico (opcional).\n",
    "\n",
    "plt.axis('equal')  # Esto asegura que el gráfico de pastel sea un círculo.\n",
    "\n",
    "plt.title(f'Categorias de title { title }')"
   ]
  },
  {
   "cell_type": "code",
   "execution_count": 73,
   "metadata": {},
   "outputs": [
    {
     "data": {
      "image/png": "[encoded data removed]",
      "text/plain": [
       "<Figure size 900x500 with 2 Axes>"
      ]
     },
     "metadata": {},
     "output_type": "display_data"
    }
   ],
   "source": [
    "from matplotlib.patches import ConnectionPatch\n",
    "# make figure and assign axis objects\n",
    "fig, (ax1, ax2) = plt.subplots(1, 2, figsize=(9, 5))\n",
    "fig.subplots_adjust(wspace=.1)\n",
    "\n",
    "# pie chart parameters\n",
    "overall_ratios = valores\n",
    "labels = etiquetas\n",
    "explode = [0.1, 0, 0]\n",
    "# rotate so that first wedge is split by the x-axis\n",
    "angle = -220 * overall_ratios[0]\n",
    "wedges, *_ = ax1.pie(overall_ratios, autopct='%1.1f%%', startangle=angle,\n",
    "                     labels=labels, explode=explode)\n",
    "\n",
    "# bar chart parameters\n",
    "age_ratios = [.33, .54, .07, .06]\n",
    "age_labels = ['Under 35', '35-49', '50-65', 'Over 65']\n",
    "bottom = 1\n",
    "width = .2\n",
    "\n",
    "# Adding from the top matches the legend.\n",
    "for j, (height, label) in enumerate(reversed([*zip(age_ratios, age_labels)])):\n",
    "    bottom -= height\n",
    "    bc = ax2.bar(0, height, width, bottom=bottom, color='C0', label=label,\n",
    "                 alpha=0.1 + 0.25 * j)\n",
    "    ax2.bar_label(bc, labels=[f\"{height:.0%}\"], label_type='center')\n",
    "\n",
    "ax2.set_title('Información')\n",
    "ax2.legend()\n",
    "ax2.axis('off')\n",
    "ax2.set_xlim(- 2.5 * width, 2.5 * width)\n",
    "\n",
    "# use ConnectionPatch to draw lines between the two plots\n",
    "theta1, theta2 = wedges[0].theta1, wedges[0].theta2\n",
    "center, r = wedges[0].center, wedges[0].r\n",
    "bar_height = sum(age_ratios)\n",
    "\n",
    "# draw top connecting line\n",
    "x = r * np.cos(np.pi / 180 * theta2) + center[0]\n",
    "y = r * np.sin(np.pi / 180 * theta2) + center[1]\n",
    "con = ConnectionPatch(xyA=(-width / 2, bar_height), coordsA=ax2.transData,\n",
    "                      xyB=(x, y), coordsB=ax1.transData)\n",
    "con.set_color([0, 0, 0])\n",
    "con.set_linewidth(4)\n",
    "ax2.add_artist(con)\n",
    "\n",
    "# draw bottom connecting line\n",
    "x = r * np.cos(np.pi / 180 * theta1) + center[0]\n",
    "y = r * np.sin(np.pi / 180 * theta1) + center[1]\n",
    "con = ConnectionPatch(xyA=(-width / 2, 0), coordsA=ax2.transData,\n",
    "                      xyB=(x, y), coordsB=ax1.transData)\n",
    "con.set_color([0, 0, 0])\n",
    "ax2.add_artist(con)\n",
    "con.set_linewidth(4)\n",
    "\n",
    "plt.show()"
   ]
  },
  {
   "cell_type": "code",
   "execution_count": 82,
   "metadata": {},
   "outputs": [
    {
     "data": {
      "text/plain": [
       "tuple"
      ]
     },
     "execution_count": 82,
     "metadata": {},
     "output_type": "execute_result"
    }
   ],
   "source": [
    "type(percentage(dashboard))\n"
   ]
  }
 ],
 "metadata": {
  "kernelspec": {
   "display_name": "venv",
   "language": "python",
   "name": "python3"
  },
  "language_info": {
   "codemirror_mode": {
    "name": "ipython",
    "version": 3
   },
   "file_extension": ".py",
   "mimetype": "text/x-python",
   "name": "python",
   "nbconvert_exporter": "python",
   "pygments_lexer": "ipython3",
   "version": "3.10.12"
  }
 },
 "nbformat": 4,
 "nbformat_minor": 2
}
