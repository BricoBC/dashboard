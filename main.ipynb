{
 "cells": [
  {
   "cell_type": "code",
   "execution_count": 2,
   "metadata": {},
   "outputs": [
    {
     "name": "stdout",
     "output_type": "stream",
     "text": [
      "Collecting pandas\n",
      "  Downloading pandas-2.1.1-cp310-cp310-manylinux_2_17_x86_64.manylinux2014_x86_64.whl (12.3 MB)\n",
      "\u001b[2K     \u001b[38;2;114;156;31m━━━━━━━━━━━━━━━━━━━━━━━━━━━━━━━━━━━━━━━━\u001b[0m \u001b[32m12.3/12.3 MB\u001b[0m \u001b[31m8.1 MB/s\u001b[0m eta \u001b[36m0:00:00\u001b[0mm eta \u001b[36m0:00:01\u001b[0m0:01\u001b[0m01\u001b[0m\n",
      "\u001b[?25hCollecting pytz>=2020.1\n",
      "  Downloading pytz-2023.3.post1-py2.py3-none-any.whl (502 kB)\n",
      "\u001b[2K     \u001b[38;2;114;156;31m━━━━━━━━━━━━━━━━━━━━━━━━━━━━━━━━━━━━━━━\u001b[0m \u001b[32m502.5/502.5 KB\u001b[0m \u001b[31m8.5 MB/s\u001b[0m eta \u001b[36m0:00:00\u001b[0mm eta \u001b[36m0:00:01\u001b[0m\n",
      "\u001b[?25hCollecting numpy>=1.22.4\n",
      "  Downloading numpy-1.26.1-cp310-cp310-manylinux_2_17_x86_64.manylinux2014_x86_64.whl (18.2 MB)\n",
      "\u001b[2K     \u001b[38;2;114;156;31m━━━━━━━━━━━━━━━━━━━━━━━━━━━━━━━━━━━━━━━━\u001b[0m \u001b[32m18.2/18.2 MB\u001b[0m \u001b[31m4.3 MB/s\u001b[0m eta \u001b[36m0:00:00\u001b[0mm eta \u001b[36m0:00:01\u001b[0m[36m0:00:01\u001b[0mm\n",
      "\u001b[?25hRequirement already satisfied: python-dateutil>=2.8.2 in ./venv/lib/python3.10/site-packages (from pandas) (2.8.2)\n",
      "Collecting tzdata>=2022.1\n",
      "  Using cached tzdata-2023.3-py2.py3-none-any.whl (341 kB)\n",
      "Requirement already satisfied: six>=1.5 in ./venv/lib/python3.10/site-packages (from python-dateutil>=2.8.2->pandas) (1.16.0)\n",
      "Installing collected packages: pytz, tzdata, numpy, pandas\n",
      "Successfully installed numpy-1.26.1 pandas-2.1.1 pytz-2023.3.post1 tzdata-2023.3\n",
      "Note: you may need to restart the kernel to use updated packages.\n"
     ]
    }
   ],
   "source": [
    "pip install pandas"
   ]
  },
  {
   "cell_type": "code",
   "execution_count": 7,
   "metadata": {},
   "outputs": [],
   "source": [
    "import pandas as pd"
   ]
  },
  {
   "cell_type": "code",
   "execution_count": 27,
   "metadata": {},
   "outputs": [],
   "source": [
    "df_data_all = pd.read_csv(\"./KPIs.csv\")"
   ]
  },
  {
   "cell_type": "code",
   "execution_count": 62,
   "metadata": {},
   "outputs": [],
   "source": [
    "# Elimino las últimas tres columnas\n",
    "df_data = df_data_all.iloc[ : , :-3]"
   ]
  },
  {
   "cell_type": "code",
   "execution_count": 64,
   "metadata": {},
   "outputs": [
    {
     "data": {
      "text/html": [
       "<div>\n",
       "<style scoped>\n",
       "    .dataframe tbody tr th:only-of-type {\n",
       "        vertical-align: middle;\n",
       "    }\n",
       "\n",
       "    .dataframe tbody tr th {\n",
       "        vertical-align: top;\n",
       "    }\n",
       "\n",
       "    .dataframe thead th {\n",
       "        text-align: right;\n",
       "    }\n",
       "</style>\n",
       "<table border=\"1\" class=\"dataframe\">\n",
       "  <thead>\n",
       "    <tr style=\"text-align: right;\">\n",
       "      <th></th>\n",
       "      <th>CATEGORIA</th>\n",
       "      <th>TEMA</th>\n",
       "      <th>DATO BUSCADO</th>\n",
       "      <th>¿Se tiene?</th>\n",
       "      <th>ORIGEN</th>\n",
       "      <th>Campo agregado</th>\n",
       "      <th>Nombre del campo</th>\n",
       "    </tr>\n",
       "  </thead>\n",
       "  <tbody>\n",
       "  </tbody>\n",
       "</table>\n",
       "</div>"
      ],
      "text/plain": [
       "Empty DataFrame\n",
       "Columns: [CATEGORIA, TEMA, DATO BUSCADO, ¿Se tiene?, ORIGEN, Campo agregado, Nombre del campo]\n",
       "Index: []"
      ]
     },
     "execution_count": 64,
     "metadata": {},
     "output_type": "execute_result"
    }
   ],
   "source": [
    "arr_columns = df_data.iloc[0:0,:]\n",
    "arr_columns"
   ]
  },
  {
   "cell_type": "markdown",
   "metadata": {},
   "source": [
    "## FILTRACIÓN POR LA COLUMNA CATEGORIA"
   ]
  },
  {
   "cell_type": "code",
   "execution_count": 168,
   "metadata": {},
   "outputs": [
    {
     "data": {
      "text/plain": [
       "array(['Cap 1000', 'Energía eléctrica', 'Suministro de Agua',\n",
       "       'Servicios Profesionales', 'Viáticos', 'Orden social', 'Inmuebles',\n",
       "       'Papeleria', 'Alimentos', 'TI'], dtype=object)"
      ]
     },
     "execution_count": 168,
     "metadata": {},
     "output_type": "execute_result"
    }
   ],
   "source": [
    "categories = df_data['CATEGORIA'].unique()\n",
    "categories"
   ]
  },
  {
   "cell_type": "code",
   "execution_count": 202,
   "metadata": {},
   "outputs": [],
   "source": [
    "category = categories[3]"
   ]
  },
  {
   "cell_type": "code",
   "execution_count": 203,
   "metadata": {},
   "outputs": [
    {
     "data": {
      "text/html": [
       "<div>\n",
       "<style scoped>\n",
       "    .dataframe tbody tr th:only-of-type {\n",
       "        vertical-align: middle;\n",
       "    }\n",
       "\n",
       "    .dataframe tbody tr th {\n",
       "        vertical-align: top;\n",
       "    }\n",
       "\n",
       "    .dataframe thead th {\n",
       "        text-align: right;\n",
       "    }\n",
       "</style>\n",
       "<table border=\"1\" class=\"dataframe\">\n",
       "  <thead>\n",
       "    <tr style=\"text-align: right;\">\n",
       "      <th></th>\n",
       "      <th>CATEGORIA</th>\n",
       "      <th>TEMA</th>\n",
       "      <th>DATO BUSCADO</th>\n",
       "      <th>¿Se tiene?</th>\n",
       "      <th>ORIGEN</th>\n",
       "      <th>Campo agregado</th>\n",
       "      <th>Nombre del campo</th>\n",
       "    </tr>\n",
       "  </thead>\n",
       "  <tbody>\n",
       "    <tr>\n",
       "      <th>25</th>\n",
       "      <td>Servicios Profesionales</td>\n",
       "      <td>Contratos</td>\n",
       "      <td>El total de trabajadores por área</td>\n",
       "      <td>No</td>\n",
       "      <td>Proveedores</td>\n",
       "      <td>Sí</td>\n",
       "      <td>Puesto de trabajo (Proveedores)</td>\n",
       "    </tr>\n",
       "    <tr>\n",
       "      <th>26</th>\n",
       "      <td>Servicios Profesionales</td>\n",
       "      <td>Contratos</td>\n",
       "      <td>El monto del contrato por área</td>\n",
       "      <td>Si</td>\n",
       "      <td>Facturas</td>\n",
       "      <td>NaN</td>\n",
       "      <td>NaN</td>\n",
       "    </tr>\n",
       "    <tr>\n",
       "      <th>27</th>\n",
       "      <td>Servicios Profesionales</td>\n",
       "      <td>Contratos</td>\n",
       "      <td>El total de contratos en hombres.</td>\n",
       "      <td>No</td>\n",
       "      <td>Proveedores</td>\n",
       "      <td>No</td>\n",
       "      <td>NaN</td>\n",
       "    </tr>\n",
       "    <tr>\n",
       "      <th>28</th>\n",
       "      <td>Servicios Profesionales</td>\n",
       "      <td>Contratos</td>\n",
       "      <td>El porcentaje de los contratos para hombres</td>\n",
       "      <td>No</td>\n",
       "      <td>NaN</td>\n",
       "      <td>No</td>\n",
       "      <td>NaN</td>\n",
       "    </tr>\n",
       "    <tr>\n",
       "      <th>29</th>\n",
       "      <td>Servicios Profesionales</td>\n",
       "      <td>Contratos</td>\n",
       "      <td>El total de contratos en mujeres</td>\n",
       "      <td>No</td>\n",
       "      <td>NaN</td>\n",
       "      <td>No</td>\n",
       "      <td>NaN</td>\n",
       "    </tr>\n",
       "    <tr>\n",
       "      <th>30</th>\n",
       "      <td>Servicios Profesionales</td>\n",
       "      <td>Contratos</td>\n",
       "      <td>El porcentaje de los contratos para mujeres</td>\n",
       "      <td>No</td>\n",
       "      <td>NaN</td>\n",
       "      <td>No</td>\n",
       "      <td>NaN</td>\n",
       "    </tr>\n",
       "    <tr>\n",
       "      <th>31</th>\n",
       "      <td>Servicios Profesionales</td>\n",
       "      <td>Contratos</td>\n",
       "      <td>El total de contratos.</td>\n",
       "      <td>No</td>\n",
       "      <td>NaN</td>\n",
       "      <td>No</td>\n",
       "      <td>NaN</td>\n",
       "    </tr>\n",
       "    <tr>\n",
       "      <th>32</th>\n",
       "      <td>Servicios Profesionales</td>\n",
       "      <td>Contratos</td>\n",
       "      <td>El costo total de todos los trabajadores</td>\n",
       "      <td>No</td>\n",
       "      <td>Facturas</td>\n",
       "      <td>No</td>\n",
       "      <td>NaN</td>\n",
       "    </tr>\n",
       "    <tr>\n",
       "      <th>33</th>\n",
       "      <td>Servicios Profesionales</td>\n",
       "      <td>Contratos</td>\n",
       "      <td>El costo total de todos los trabajadores del a...</td>\n",
       "      <td>No</td>\n",
       "      <td>Facturas</td>\n",
       "      <td>No</td>\n",
       "      <td>NaN</td>\n",
       "    </tr>\n",
       "    <tr>\n",
       "      <th>34</th>\n",
       "      <td>Servicios Profesionales</td>\n",
       "      <td>Contratos</td>\n",
       "      <td>La diferencia del costo total de los trabajado...</td>\n",
       "      <td>No</td>\n",
       "      <td>Facturas</td>\n",
       "      <td>No</td>\n",
       "      <td>NaN</td>\n",
       "    </tr>\n",
       "    <tr>\n",
       "      <th>35</th>\n",
       "      <td>Servicios Profesionales</td>\n",
       "      <td>Contratos</td>\n",
       "      <td>La comparación de los últimos 3 años de los co...</td>\n",
       "      <td>No</td>\n",
       "      <td>Facturas</td>\n",
       "      <td>No</td>\n",
       "      <td>NaN</td>\n",
       "    </tr>\n",
       "  </tbody>\n",
       "</table>\n",
       "</div>"
      ],
      "text/plain": [
       "                  CATEGORIA       TEMA  \\\n",
       "25  Servicios Profesionales  Contratos   \n",
       "26  Servicios Profesionales  Contratos   \n",
       "27  Servicios Profesionales  Contratos   \n",
       "28  Servicios Profesionales  Contratos   \n",
       "29  Servicios Profesionales  Contratos   \n",
       "30  Servicios Profesionales  Contratos   \n",
       "31  Servicios Profesionales  Contratos   \n",
       "32  Servicios Profesionales  Contratos   \n",
       "33  Servicios Profesionales  Contratos   \n",
       "34  Servicios Profesionales  Contratos   \n",
       "35  Servicios Profesionales  Contratos   \n",
       "\n",
       "                                         DATO BUSCADO ¿Se tiene?       ORIGEN  \\\n",
       "25                  El total de trabajadores por área         No  Proveedores   \n",
       "26                     El monto del contrato por área         Si     Facturas   \n",
       "27                  El total de contratos en hombres.         No  Proveedores   \n",
       "28        El porcentaje de los contratos para hombres         No          NaN   \n",
       "29                   El total de contratos en mujeres         No          NaN   \n",
       "30        El porcentaje de los contratos para mujeres         No          NaN   \n",
       "31                             El total de contratos.         No          NaN   \n",
       "32           El costo total de todos los trabajadores         No     Facturas   \n",
       "33  El costo total de todos los trabajadores del a...         No     Facturas   \n",
       "34  La diferencia del costo total de los trabajado...         No     Facturas   \n",
       "35  La comparación de los últimos 3 años de los co...         No     Facturas   \n",
       "\n",
       "   Campo agregado                 Nombre del campo  \n",
       "25             Sí  Puesto de trabajo (Proveedores)  \n",
       "26            NaN                              NaN  \n",
       "27             No                              NaN  \n",
       "28             No                              NaN  \n",
       "29             No                              NaN  \n",
       "30             No                              NaN  \n",
       "31             No                              NaN  \n",
       "32             No                              NaN  \n",
       "33             No                              NaN  \n",
       "34             No                              NaN  \n",
       "35             No                              NaN  "
      ]
     },
     "execution_count": 203,
     "metadata": {},
     "output_type": "execute_result"
    }
   ],
   "source": [
    "df_data[df_data['CATEGORIA'] == category]"
   ]
  },
  {
   "cell_type": "markdown",
   "metadata": {},
   "source": [
    "## TEMA"
   ]
  },
  {
   "cell_type": "code",
   "execution_count": 204,
   "metadata": {},
   "outputs": [],
   "source": [
    "arr_tema = df_data[df_data['CATEGORIA'] == category]['TEMA'].unique()"
   ]
  },
  {
   "cell_type": "code",
   "execution_count": 205,
   "metadata": {},
   "outputs": [
    {
     "data": {
      "text/plain": [
       "1"
      ]
     },
     "execution_count": 205,
     "metadata": {},
     "output_type": "execute_result"
    }
   ],
   "source": [
    "# Obtenemos los temas totales que tiene la categoria\n",
    "arr_tema.size"
   ]
  },
  {
   "cell_type": "code",
   "execution_count": 206,
   "metadata": {},
   "outputs": [
    {
     "name": "stdout",
     "output_type": "stream",
     "text": [
      "Contratos\n"
     ]
    }
   ],
   "source": [
    "# Se imprime el/los tema(s) de la categoria\n",
    "for i in range(arr_tema.size):\n",
    "    print(arr_tema[i])"
   ]
  },
  {
   "cell_type": "markdown",
   "metadata": {},
   "source": [
    "## Obtener Datos de cada tema"
   ]
  },
  {
   "cell_type": "code",
   "execution_count": 207,
   "metadata": {},
   "outputs": [],
   "source": [
    "tema = arr_tema[0]"
   ]
  },
  {
   "cell_type": "markdown",
   "metadata": {},
   "source": [
    "## Datos"
   ]
  },
  {
   "cell_type": "code",
   "execution_count": 208,
   "metadata": {},
   "outputs": [
    {
     "data": {
      "text/plain": [
       "11"
      ]
     },
     "execution_count": 208,
     "metadata": {},
     "output_type": "execute_result"
    }
   ],
   "source": [
    "data_total = df_data['¿Se tiene?'].loc[(df_data['CATEGORIA'] == category) & (df_data['TEMA'] == tema)].size\n",
    "data_total"
   ]
  },
  {
   "cell_type": "markdown",
   "metadata": {},
   "source": [
    "## Datos sin información"
   ]
  },
  {
   "cell_type": "code",
   "execution_count": 213,
   "metadata": {},
   "outputs": [
    {
     "data": {
      "text/plain": [
       "10"
      ]
     },
     "execution_count": 213,
     "metadata": {},
     "output_type": "execute_result"
    }
   ],
   "source": [
    "data_without_information = df_data['Campo agregado'].loc[(df_data['CATEGORIA'] == category) & (df_data['TEMA'] == tema) & (df_data['¿Se tiene?'] == 'No')].count()\n",
    "data_without_information"
   ]
  },
  {
   "cell_type": "markdown",
   "metadata": {},
   "source": [
    "## Datos con información"
   ]
  },
  {
   "cell_type": "code",
   "execution_count": 214,
   "metadata": {},
   "outputs": [
    {
     "data": {
      "text/plain": [
       "1"
      ]
     },
     "execution_count": 214,
     "metadata": {},
     "output_type": "execute_result"
    }
   ],
   "source": [
    "data_information = data_total - data_without_information\n",
    "data_information"
   ]
  }
 ],
 "metadata": {
  "kernelspec": {
   "display_name": "venv",
   "language": "python",
   "name": "python3"
  },
  "language_info": {
   "codemirror_mode": {
    "name": "ipython",
    "version": 3
   },
   "file_extension": ".py",
   "mimetype": "text/x-python",
   "name": "python",
   "nbconvert_exporter": "python",
   "pygments_lexer": "ipython3",
   "version": "3.10.12"
  }
 },
 "nbformat": 4,
 "nbformat_minor": 2
}
