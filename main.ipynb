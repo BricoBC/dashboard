{
 "cells": [
  {
   "cell_type": "code",
   "execution_count": 2,
   "metadata": {},
   "outputs": [
    {
     "name": "stdout",
     "output_type": "stream",
     "text": [
      "Collecting pandas\n",
      "  Downloading pandas-2.1.1-cp310-cp310-manylinux_2_17_x86_64.manylinux2014_x86_64.whl (12.3 MB)\n",
      "\u001b[2K     \u001b[38;2;114;156;31m━━━━━━━━━━━━━━━━━━━━━━━━━━━━━━━━━━━━━━━━\u001b[0m \u001b[32m12.3/12.3 MB\u001b[0m \u001b[31m8.1 MB/s\u001b[0m eta \u001b[36m0:00:00\u001b[0mm eta \u001b[36m0:00:01\u001b[0m0:01\u001b[0m01\u001b[0m\n",
      "\u001b[?25hCollecting pytz>=2020.1\n",
      "  Downloading pytz-2023.3.post1-py2.py3-none-any.whl (502 kB)\n",
      "\u001b[2K     \u001b[38;2;114;156;31m━━━━━━━━━━━━━━━━━━━━━━━━━━━━━━━━━━━━━━━\u001b[0m \u001b[32m502.5/502.5 KB\u001b[0m \u001b[31m8.5 MB/s\u001b[0m eta \u001b[36m0:00:00\u001b[0mm eta \u001b[36m0:00:01\u001b[0m\n",
      "\u001b[?25hCollecting numpy>=1.22.4\n",
      "  Downloading numpy-1.26.1-cp310-cp310-manylinux_2_17_x86_64.manylinux2014_x86_64.whl (18.2 MB)\n",
      "\u001b[2K     \u001b[38;2;114;156;31m━━━━━━━━━━━━━━━━━━━━━━━━━━━━━━━━━━━━━━━━\u001b[0m \u001b[32m18.2/18.2 MB\u001b[0m \u001b[31m4.3 MB/s\u001b[0m eta \u001b[36m0:00:00\u001b[0mm eta \u001b[36m0:00:01\u001b[0m[36m0:00:01\u001b[0mm\n",
      "\u001b[?25hRequirement already satisfied: python-dateutil>=2.8.2 in ./venv/lib/python3.10/site-packages (from pandas) (2.8.2)\n",
      "Collecting tzdata>=2022.1\n",
      "  Using cached tzdata-2023.3-py2.py3-none-any.whl (341 kB)\n",
      "Requirement already satisfied: six>=1.5 in ./venv/lib/python3.10/site-packages (from python-dateutil>=2.8.2->pandas) (1.16.0)\n",
      "Installing collected packages: pytz, tzdata, numpy, pandas\n",
      "Successfully installed numpy-1.26.1 pandas-2.1.1 pytz-2023.3.post1 tzdata-2023.3\n",
      "Note: you may need to restart the kernel to use updated packages.\n"
     ]
    }
   ],
   "source": [
    "pip install pandas"
   ]
  },
  {
   "cell_type": "code",
   "execution_count": 7,
   "metadata": {},
   "outputs": [],
   "source": [
    "import pandas as pd"
   ]
  },
  {
   "cell_type": "code",
   "execution_count": 27,
   "metadata": {},
   "outputs": [],
   "source": [
    "df_data_all = pd.read_csv(\"./KPIs.csv\")"
   ]
  },
  {
   "cell_type": "code",
   "execution_count": 62,
   "metadata": {},
   "outputs": [],
   "source": [
    "# Elimino las últimas tres columnas\n",
    "df_data = df_data_all.iloc[ : , :-3]"
   ]
  },
  {
   "cell_type": "code",
   "execution_count": 64,
   "metadata": {},
   "outputs": [
    {
     "data": {
      "text/html": [
       "<div>\n",
       "<style scoped>\n",
       "    .dataframe tbody tr th:only-of-type {\n",
       "        vertical-align: middle;\n",
       "    }\n",
       "\n",
       "    .dataframe tbody tr th {\n",
       "        vertical-align: top;\n",
       "    }\n",
       "\n",
       "    .dataframe thead th {\n",
       "        text-align: right;\n",
       "    }\n",
       "</style>\n",
       "<table border=\"1\" class=\"dataframe\">\n",
       "  <thead>\n",
       "    <tr style=\"text-align: right;\">\n",
       "      <th></th>\n",
       "      <th>CATEGORIA</th>\n",
       "      <th>TEMA</th>\n",
       "      <th>DATO BUSCADO</th>\n",
       "      <th>¿Se tiene?</th>\n",
       "      <th>ORIGEN</th>\n",
       "      <th>Campo agregado</th>\n",
       "      <th>Nombre del campo</th>\n",
       "    </tr>\n",
       "  </thead>\n",
       "  <tbody>\n",
       "  </tbody>\n",
       "</table>\n",
       "</div>"
      ],
      "text/plain": [
       "Empty DataFrame\n",
       "Columns: [CATEGORIA, TEMA, DATO BUSCADO, ¿Se tiene?, ORIGEN, Campo agregado, Nombre del campo]\n",
       "Index: []"
      ]
     },
     "execution_count": 64,
     "metadata": {},
     "output_type": "execute_result"
    }
   ],
   "source": [
    "arr_columns = df_data.iloc[0:0,:]\n",
    "arr_columns"
   ]
  },
  {
   "cell_type": "markdown",
   "metadata": {},
   "source": [
    "## FILTRACIÓN POR LA COLUMNA CATEGORIA"
   ]
  },
  {
   "cell_type": "code",
   "execution_count": 88,
   "metadata": {},
   "outputs": [
    {
     "data": {
      "text/html": [
       "<div>\n",
       "<style scoped>\n",
       "    .dataframe tbody tr th:only-of-type {\n",
       "        vertical-align: middle;\n",
       "    }\n",
       "\n",
       "    .dataframe tbody tr th {\n",
       "        vertical-align: top;\n",
       "    }\n",
       "\n",
       "    .dataframe thead th {\n",
       "        text-align: right;\n",
       "    }\n",
       "</style>\n",
       "<table border=\"1\" class=\"dataframe\">\n",
       "  <thead>\n",
       "    <tr style=\"text-align: right;\">\n",
       "      <th></th>\n",
       "      <th>CATEGORIA</th>\n",
       "      <th>TEMA</th>\n",
       "      <th>DATO BUSCADO</th>\n",
       "      <th>¿Se tiene?</th>\n",
       "      <th>ORIGEN</th>\n",
       "      <th>Campo agregado</th>\n",
       "      <th>Nombre del campo</th>\n",
       "    </tr>\n",
       "  </thead>\n",
       "  <tbody>\n",
       "    <tr>\n",
       "      <th>6</th>\n",
       "      <td>Energía eléctrica</td>\n",
       "      <td>Watss consumidos</td>\n",
       "      <td>Lo que se pago en total de la luz</td>\n",
       "      <td>Si</td>\n",
       "      <td>Facturas</td>\n",
       "      <td>NaN</td>\n",
       "      <td>NaN</td>\n",
       "    </tr>\n",
       "    <tr>\n",
       "      <th>7</th>\n",
       "      <td>Energía eléctrica</td>\n",
       "      <td>Watss consumidos</td>\n",
       "      <td>Lo que se pago en total de la luz del año ante...</td>\n",
       "      <td>Si</td>\n",
       "      <td>Facturas</td>\n",
       "      <td>NaN</td>\n",
       "      <td>NaN</td>\n",
       "    </tr>\n",
       "    <tr>\n",
       "      <th>8</th>\n",
       "      <td>Energía eléctrica</td>\n",
       "      <td>Watss consumidos</td>\n",
       "      <td>La diferencia de pago del actual año con respe...</td>\n",
       "      <td>Si</td>\n",
       "      <td>Facturas</td>\n",
       "      <td>NaN</td>\n",
       "      <td>NaN</td>\n",
       "    </tr>\n",
       "    <tr>\n",
       "      <th>9</th>\n",
       "      <td>Energía eléctrica</td>\n",
       "      <td>Watss consumidos</td>\n",
       "      <td>El monto pagado por bimestre con respecto a 2 ...</td>\n",
       "      <td>Si</td>\n",
       "      <td>Facturas</td>\n",
       "      <td>NaN</td>\n",
       "      <td>NaN</td>\n",
       "    </tr>\n",
       "    <tr>\n",
       "      <th>10</th>\n",
       "      <td>Energía eléctrica</td>\n",
       "      <td>Watss consumidos</td>\n",
       "      <td>El monto pagado por semestre con respecto a 2 ...</td>\n",
       "      <td>Si</td>\n",
       "      <td>Facturas</td>\n",
       "      <td>NaN</td>\n",
       "      <td>NaN</td>\n",
       "    </tr>\n",
       "    <tr>\n",
       "      <th>11</th>\n",
       "      <td>Energía eléctrica</td>\n",
       "      <td>Watss consumidos</td>\n",
       "      <td>El monto pagado anualmente con respecto a 2 añ...</td>\n",
       "      <td>Si</td>\n",
       "      <td>Facturas</td>\n",
       "      <td>NaN</td>\n",
       "      <td>NaN</td>\n",
       "    </tr>\n",
       "    <tr>\n",
       "      <th>12</th>\n",
       "      <td>Energía eléctrica</td>\n",
       "      <td>Watss consumidos</td>\n",
       "      <td>Ver detalle como fecha de pago, monto pagado y...</td>\n",
       "      <td>Si</td>\n",
       "      <td>Facturas</td>\n",
       "      <td>NaN</td>\n",
       "      <td>NaN</td>\n",
       "    </tr>\n",
       "    <tr>\n",
       "      <th>13</th>\n",
       "      <td>Energía eléctrica</td>\n",
       "      <td>Insumos eléctricos</td>\n",
       "      <td>Contar cuantos insumos eléctricos hay</td>\n",
       "      <td>Sí</td>\n",
       "      <td>Inventario</td>\n",
       "      <td>NaN</td>\n",
       "      <td>NaN</td>\n",
       "    </tr>\n",
       "    <tr>\n",
       "      <th>14</th>\n",
       "      <td>Energía eléctrica</td>\n",
       "      <td>Insumos eléctricos</td>\n",
       "      <td>El área que más tuvo reemplazos de insumos elé...</td>\n",
       "      <td>Sí</td>\n",
       "      <td>Inventario</td>\n",
       "      <td>NaN</td>\n",
       "      <td>NaN</td>\n",
       "    </tr>\n",
       "    <tr>\n",
       "      <th>15</th>\n",
       "      <td>Energía eléctrica</td>\n",
       "      <td>Mantenimiento de aires acondicionado</td>\n",
       "      <td>Lo que se pago en total de mantenimiento del año</td>\n",
       "      <td>Sí</td>\n",
       "      <td>Facturas</td>\n",
       "      <td>NaN</td>\n",
       "      <td>NaN</td>\n",
       "    </tr>\n",
       "    <tr>\n",
       "      <th>16</th>\n",
       "      <td>Energía eléctrica</td>\n",
       "      <td>Mantenimiento de aires acondicionado</td>\n",
       "      <td>Fecha del mantenimiento</td>\n",
       "      <td>Sí</td>\n",
       "      <td>Facturas</td>\n",
       "      <td>NaN</td>\n",
       "      <td>NaN</td>\n",
       "    </tr>\n",
       "  </tbody>\n",
       "</table>\n",
       "</div>"
      ],
      "text/plain": [
       "            CATEGORIA                                  TEMA  \\\n",
       "6   Energía eléctrica                      Watss consumidos   \n",
       "7   Energía eléctrica                      Watss consumidos   \n",
       "8   Energía eléctrica                      Watss consumidos   \n",
       "9   Energía eléctrica                      Watss consumidos   \n",
       "10  Energía eléctrica                      Watss consumidos   \n",
       "11  Energía eléctrica                      Watss consumidos   \n",
       "12  Energía eléctrica                      Watss consumidos   \n",
       "13  Energía eléctrica                    Insumos eléctricos   \n",
       "14  Energía eléctrica                    Insumos eléctricos   \n",
       "15  Energía eléctrica  Mantenimiento de aires acondicionado   \n",
       "16  Energía eléctrica  Mantenimiento de aires acondicionado   \n",
       "\n",
       "                                         DATO BUSCADO ¿Se tiene?      ORIGEN  \\\n",
       "6                   Lo que se pago en total de la luz         Si    Facturas   \n",
       "7   Lo que se pago en total de la luz del año ante...         Si    Facturas   \n",
       "8   La diferencia de pago del actual año con respe...         Si    Facturas   \n",
       "9   El monto pagado por bimestre con respecto a 2 ...         Si    Facturas   \n",
       "10  El monto pagado por semestre con respecto a 2 ...         Si    Facturas   \n",
       "11  El monto pagado anualmente con respecto a 2 añ...         Si    Facturas   \n",
       "12  Ver detalle como fecha de pago, monto pagado y...         Si    Facturas   \n",
       "13              Contar cuantos insumos eléctricos hay         Sí  Inventario   \n",
       "14  El área que más tuvo reemplazos de insumos elé...         Sí  Inventario   \n",
       "15   Lo que se pago en total de mantenimiento del año         Sí    Facturas   \n",
       "16                            Fecha del mantenimiento         Sí    Facturas   \n",
       "\n",
       "   Campo agregado Nombre del campo  \n",
       "6             NaN              NaN  \n",
       "7             NaN              NaN  \n",
       "8             NaN              NaN  \n",
       "9             NaN              NaN  \n",
       "10            NaN              NaN  \n",
       "11            NaN              NaN  \n",
       "12            NaN              NaN  \n",
       "13            NaN              NaN  \n",
       "14            NaN              NaN  \n",
       "15            NaN              NaN  \n",
       "16            NaN              NaN  "
      ]
     },
     "execution_count": 88,
     "metadata": {},
     "output_type": "execute_result"
    }
   ],
   "source": [
    "df_data[df_data['CATEGORIA'] == 'Energía eléctrica']"
   ]
  },
  {
   "cell_type": "markdown",
   "metadata": {},
   "source": [
    "## TEMA"
   ]
  },
  {
   "cell_type": "code",
   "execution_count": 103,
   "metadata": {},
   "outputs": [],
   "source": [
    "arr_tema = df_data[df_data['CATEGORIA'] == 'Energía eléctrica']['TEMA'].unique()"
   ]
  },
  {
   "cell_type": "code",
   "execution_count": 104,
   "metadata": {},
   "outputs": [
    {
     "data": {
      "text/plain": [
       "3"
      ]
     },
     "execution_count": 104,
     "metadata": {},
     "output_type": "execute_result"
    }
   ],
   "source": [
    "# Obtenemos los temas totales que tiene la categoria\n",
    "arr_tema.size"
   ]
  },
  {
   "cell_type": "code",
   "execution_count": 105,
   "metadata": {},
   "outputs": [
    {
     "name": "stdout",
     "output_type": "stream",
     "text": [
      "Watss consumidos\n",
      "Insumos eléctricos\n",
      "Mantenimiento de aires acondicionado\n"
     ]
    }
   ],
   "source": [
    "# Se imprime el/los tema(s) de la categoria\n",
    "for i in range(arr_tema.size):\n",
    "    print(arr_tema[i])"
   ]
  }
 ],
 "metadata": {
  "kernelspec": {
   "display_name": "venv",
   "language": "python",
   "name": "python3"
  },
  "language_info": {
   "codemirror_mode": {
    "name": "ipython",
    "version": 3
   },
   "file_extension": ".py",
   "mimetype": "text/x-python",
   "name": "python",
   "nbconvert_exporter": "python",
   "pygments_lexer": "ipython3",
   "version": "3.10.12"
  }
 },
 "nbformat": 4,
 "nbformat_minor": 2
}
