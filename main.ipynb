{
 "cells": [
  {
   "cell_type": "code",
   "execution_count": 119,
   "metadata": {},
   "outputs": [
    {
     "name": "stdout",
     "output_type": "stream",
     "text": [
      "Requirement already satisfied: pandas in ./venv/lib/python3.10/site-packages (2.1.1)\n",
      "Requirement already satisfied: tzdata>=2022.1 in ./venv/lib/python3.10/site-packages (from pandas) (2023.3)\n",
      "Requirement already satisfied: python-dateutil>=2.8.2 in ./venv/lib/python3.10/site-packages (from pandas) (2.8.2)\n",
      "Requirement already satisfied: pytz>=2020.1 in ./venv/lib/python3.10/site-packages (from pandas) (2023.3.post1)\n",
      "Requirement already satisfied: numpy>=1.22.4 in ./venv/lib/python3.10/site-packages (from pandas) (1.26.1)\n",
      "Requirement already satisfied: six>=1.5 in ./venv/lib/python3.10/site-packages (from python-dateutil>=2.8.2->pandas) (1.16.0)\n",
      "Note: you may need to restart the kernel to use updated packages.\n"
     ]
    }
   ],
   "source": [
    "pip install pandas"
   ]
  },
  {
   "cell_type": "code",
   "execution_count": 1,
   "metadata": {},
   "outputs": [],
   "source": [
    "import pandas as pd\n",
    "import numpy as np"
   ]
  },
  {
   "cell_type": "code",
   "execution_count": 2,
   "metadata": {},
   "outputs": [],
   "source": [
    "dashboard = {\n",
    "        \"Categoria\": \"\",\n",
    "        \"Tema\": [],\n",
    "        \"Datos\": [],\n",
    "        \"Datos_con_informacion\": [],\n",
    "        \"Datos_sin_informacion\": [],\n",
    "        \"Source_information\": \"\"\n",
    "    }"
   ]
  },
  {
   "cell_type": "code",
   "execution_count": 3,
   "metadata": {},
   "outputs": [],
   "source": [
    "df_data_all = pd.read_csv(\"./KPIs.csv\")"
   ]
  },
  {
   "cell_type": "code",
   "execution_count": 4,
   "metadata": {},
   "outputs": [],
   "source": [
    "# Elimino las últimas tres columnas\n",
    "df_data = df_data_all.iloc[ : , :-3]"
   ]
  },
  {
   "cell_type": "code",
   "execution_count": 5,
   "metadata": {},
   "outputs": [],
   "source": [
    "# Le doy formato a los campos que tienen Si para que sean Sí\n",
    "df_data.loc[df_data['¿Se tiene?'] == 'Si' , '¿Se tiene?'] = 'Sí'\n",
    "df_data.loc[df_data['Campo agregado'] == 'Si' , 'Campo agregado'] = 'Sí'"
   ]
  },
  {
   "cell_type": "markdown",
   "metadata": {},
   "source": [
    "# FILTRACIÓN POR LA COLUMNA CATEGORIA"
   ]
  },
  {
   "cell_type": "code",
   "execution_count": 6,
   "metadata": {},
   "outputs": [
    {
     "data": {
      "text/plain": [
       "array(['Cap 1000', 'Energía eléctrica', 'Suministro de Agua',\n",
       "       'Servicios Profesionales', 'Viáticos', 'Orden social', 'Inmuebles',\n",
       "       'Papeleria', 'Alimentos', 'TI'], dtype=object)"
      ]
     },
     "execution_count": 6,
     "metadata": {},
     "output_type": "execute_result"
    }
   ],
   "source": [
    "#Obtengo todas las categorias que existen\n",
    "categories = df_data['CATEGORIA'].unique()\n",
    "categories"
   ]
  },
  {
   "cell_type": "code",
   "execution_count": 261,
   "metadata": {},
   "outputs": [],
   "source": [
    "#Trabajo unicamente con la categoria de la posicion 3\n",
    "category = categories[7]"
   ]
  },
  {
   "cell_type": "code",
   "execution_count": 262,
   "metadata": {},
   "outputs": [],
   "source": [
    "dashboard['Categoria'] = category"
   ]
  },
  {
   "cell_type": "code",
   "execution_count": 263,
   "metadata": {},
   "outputs": [
    {
     "name": "stdout",
     "output_type": "stream",
     "text": [
      "Papeleria\n"
     ]
    }
   ],
   "source": [
    "print(dashboard['Categoria'])"
   ]
  },
  {
   "cell_type": "markdown",
   "metadata": {},
   "source": [
    "## TEMA"
   ]
  },
  {
   "cell_type": "code",
   "execution_count": 264,
   "metadata": {},
   "outputs": [],
   "source": [
    "#Creo una función que me regresa todos los tema de una categoria\n",
    "def filter_column(data, column_of_value, value, column_filter):\n",
    "    \"\"\"\n",
    "    Se va a filtar todos los datos con respecto al valor de una columna proporcionada, \n",
    "    pero únicamente se va a mostrar los valores de la columna filtrada.\n",
    "    ES NECESARIO QUE EN DATA SEA TODA LA TABLA DE LOS DATOS.\n",
    "    COLUMN_OF_VALUE es únicamente el nombre la columna.\n",
    "    COLUMN_FILTER es únicamente el nombre la columna.\n",
    "    \"\"\"\n",
    "    arr_tema = data[ data[column_of_value] == value][column_filter].dropna().unique()\n",
    "    return arr_tema"
   ]
  },
  {
   "cell_type": "code",
   "execution_count": 265,
   "metadata": {},
   "outputs": [
    {
     "name": "stdout",
     "output_type": "stream",
     "text": [
      "['Almacen' 'Toner']\n"
     ]
    }
   ],
   "source": [
    "theme = filter_column(df_data,'CATEGORIA', category, 'TEMA')\n",
    "dashboard['Tema'] = theme\n",
    "print(dashboard['Tema'])"
   ]
  },
  {
   "cell_type": "markdown",
   "metadata": {},
   "source": [
    "# Datos"
   ]
  },
  {
   "cell_type": "code",
   "execution_count": 266,
   "metadata": {},
   "outputs": [],
   "source": [
    "def every_data(data, name_column_category , category, name_column_tema, tema, name_column_values):\n",
    "    \"\"\"\n",
    "    Se va a obtener el total de datos, cuántos datos se tiene y cuantos no, esto mediante un filtrado de todos los datos (data) \n",
    "    mediante las columnas de la categoria y del tema en donde se indicará cuál es la categoria y el tema para hacer el filtrado. \n",
    "    Una vez hecho esa filtración sólo se va a obtener la columna indicada en 'name_column_values' para determinar el tamaño de los datos\n",
    "    y de estos datos cuántos tienen Sí y cuántos No.\n",
    "    \"\"\"\n",
    "    data_of_values = []\n",
    "    arr_values = data[name_column_values].loc[( data[name_column_category] == category ) & (data[name_column_tema] == tema )].dropna().unique()\n",
    "    data_total = data[name_column_values].loc[(data[name_column_category] == category) & (data[name_column_tema] == tema)].size\n",
    "    for i in range(arr_values.size):\n",
    "        data_of_values.append(data[name_column_values].loc[(data[name_column_category] == category) & \n",
    "                                                                                  (data[name_column_tema] == tema) & \n",
    "                                                                                  (data[name_column_values] == arr_values[i]) ].count())\n",
    "    return data_total, arr_values, data_of_values"
   ]
  },
  {
   "cell_type": "code",
   "execution_count": 267,
   "metadata": {},
   "outputs": [],
   "source": [
    "def get_i(word, array):\n",
    "    \"\"\"\n",
    "    Con base a un arreglo se buscará una paralabra y retornará la iteral de esa ubicación.\n",
    "    \"\"\"\n",
    "    for i in range(len(array)):\n",
    "        if(word == array[i]):\n",
    "            return i\n",
    "    return -1"
   ]
  },
  {
   "cell_type": "code",
   "execution_count": 268,
   "metadata": {},
   "outputs": [
    {
     "name": "stdout",
     "output_type": "stream",
     "text": [
      "\n",
      "\n"
     ]
    }
   ],
   "source": [
    "arr_total_datos = []\n",
    "arr_sin_datos = []\n",
    "arr_con_datos = []\n",
    "for j in range(theme.size):\n",
    "  arr_total_datos.append(every_data(df_data, 'CATEGORIA', category, 'TEMA', theme[j], '¿Se tiene?' )[0])\n",
    "\n",
    "  i = get_i('Sí', every_data(df_data, 'CATEGORIA', category, 'TEMA', theme[j], '¿Se tiene?' )[1])\n",
    "  # Operación ternaria donde si nos devuelve un True es porque no existe esa palabra por ende el valor es 0, \n",
    "  # en caso de que devuelva la iteral esa la usamos para el array de every_data\n",
    "\n",
    "  value = 0 if i == -1 else every_data(df_data, 'CATEGORIA', category, 'TEMA', theme[j], '¿Se tiene?' )[2][i]\n",
    "  arr_con_datos.append(value)\n",
    "\n",
    "  i = get_i('No', every_data(df_data, 'CATEGORIA', category, 'TEMA', theme[j], '¿Se tiene?' )[1])\n",
    "  value = 0 if i == -1 else every_data(df_data, 'CATEGORIA', category, 'TEMA', theme[j], '¿Se tiene?' )[2][i]\n",
    "  arr_sin_datos.append(value)\n",
    "  \n",
    "  print()\n",
    "dashboard['Datos'] = arr_total_datos\n",
    "dashboard['Datos_con_informacion'] = arr_con_datos\n",
    "dashboard['Datos_sin_informacion'] = arr_sin_datos\n"
   ]
  },
  {
   "cell_type": "markdown",
   "metadata": {},
   "source": [
    "# FUENTE DE INFORMACIÓN"
   ]
  },
  {
   "cell_type": "code",
   "execution_count": 269,
   "metadata": {},
   "outputs": [
    {
     "name": "stdout",
     "output_type": "stream",
     "text": [
      "['Inventario' 'Solicitud de suministro']\n"
     ]
    }
   ],
   "source": [
    "dashboard['Source_information'] = filter_column(df_data,'CATEGORIA', category, 'ORIGEN')\n",
    "print(dashboard['Source_information'])"
   ]
  },
  {
   "cell_type": "markdown",
   "metadata": {},
   "source": [
    "# Dashboard"
   ]
  },
  {
   "cell_type": "code",
   "execution_count": 270,
   "metadata": {},
   "outputs": [
    {
     "name": "stdout",
     "output_type": "stream",
     "text": [
      "{'Categoria': 'Papeleria', 'Tema': array(['Almacen', 'Toner'], dtype=object), 'Datos': [3, 3], 'Datos_con_informacion': [3, 3], 'Datos_sin_informacion': [0, 0], 'Source_information': array(['Inventario', 'Solicitud de suministro'], dtype=object)}\n"
     ]
    }
   ],
   "source": [
    "print(dashboard)"
   ]
  },
  {
   "cell_type": "code",
   "execution_count": 271,
   "metadata": {},
   "outputs": [],
   "source": [
    "def percentage(dashboard):\n",
    "    \"\"\"\n",
    "    Función que regresa dos arrays, el porcentaje de los datos con información y sin información de un tema.\n",
    "    \"\"\"\n",
    "    arr_percentage_without_information = []\n",
    "    arr_percentage_with_information = []\n",
    "    for i in range(len(dashboard['Datos'])):\n",
    "        porcentaje_con_informacion = ((dashboard['Datos_con_informacion'][i]*100)/dashboard['Datos'][i])/100\n",
    "        porcentaje_sin_informacion = (1-porcentaje_con_informacion)\n",
    "        #print(porcentaje_con_informacion, porcentaje_sin_informacion) \n",
    "        arr_percentage_without_information.append(porcentaje_sin_informacion)\n",
    "        arr_percentage_with_information.append(porcentaje_con_informacion)\n",
    "    return arr_percentage_with_information, arr_percentage_without_information\n"
   ]
  },
  {
   "cell_type": "code",
   "execution_count": 272,
   "metadata": {},
   "outputs": [
    {
     "data": {
      "text/plain": [
       "([1.0, 1.0], [0.0, 0.0])"
      ]
     },
     "execution_count": 272,
     "metadata": {},
     "output_type": "execute_result"
    }
   ],
   "source": [
    "\n",
    "percentage(dashboard)\n",
    "\n"
   ]
  },
  {
   "cell_type": "markdown",
   "metadata": {},
   "source": [
    "## Gráficación\n"
   ]
  },
  {
   "cell_type": "code",
   "execution_count": 273,
   "metadata": {},
   "outputs": [
    {
     "name": "stdout",
     "output_type": "stream",
     "text": [
      "Requirement already satisfied: matplotlib in ./venv/lib/python3.10/site-packages (3.8.0)\n",
      "Requirement already satisfied: pillow>=6.2.0 in ./venv/lib/python3.10/site-packages (from matplotlib) (10.1.0)\n",
      "Requirement already satisfied: kiwisolver>=1.0.1 in ./venv/lib/python3.10/site-packages (from matplotlib) (1.4.5)\n",
      "Requirement already satisfied: fonttools>=4.22.0 in ./venv/lib/python3.10/site-packages (from matplotlib) (4.43.1)\n",
      "Requirement already satisfied: numpy<2,>=1.21 in ./venv/lib/python3.10/site-packages (from matplotlib) (1.26.1)\n",
      "Requirement already satisfied: packaging>=20.0 in ./venv/lib/python3.10/site-packages (from matplotlib) (23.2)\n",
      "Requirement already satisfied: python-dateutil>=2.7 in ./venv/lib/python3.10/site-packages (from matplotlib) (2.8.2)\n",
      "Requirement already satisfied: contourpy>=1.0.1 in ./venv/lib/python3.10/site-packages (from matplotlib) (1.1.1)\n",
      "Requirement already satisfied: cycler>=0.10 in ./venv/lib/python3.10/site-packages (from matplotlib) (0.12.1)\n",
      "Requirement already satisfied: pyparsing>=2.3.1 in ./venv/lib/python3.10/site-packages (from matplotlib) (3.1.1)\n",
      "Requirement already satisfied: six>=1.5 in ./venv/lib/python3.10/site-packages (from python-dateutil>=2.7->matplotlib) (1.16.0)\n",
      "Note: you may need to restart the kernel to use updated packages.\n"
     ]
    }
   ],
   "source": [
    "pip install matplotlib"
   ]
  },
  {
   "cell_type": "code",
   "execution_count": 274,
   "metadata": {},
   "outputs": [],
   "source": [
    "import matplotlib.pyplot as plt"
   ]
  },
  {
   "cell_type": "code",
   "execution_count": 302,
   "metadata": {},
   "outputs": [
    {
     "name": "stdout",
     "output_type": "stream",
     "text": [
      "\n",
      "El titulo es: Papeleria\n",
      "Las etiquetas son: ['Almacen' 'Toner']\n",
      "Los valores son: [3, 3]\n",
      "\n"
     ]
    }
   ],
   "source": [
    "title = dashboard['Categoria']\n",
    "etiquetas = dashboard['Tema']\n",
    "valores = dashboard['Datos']\n",
    "print(f\"\"\"\n",
    "El titulo es: {title}\n",
    "Las etiquetas son: {etiquetas}\n",
    "Los valores son: {valores}\n",
    "\"\"\")"
   ]
  },
  {
   "cell_type": "code",
   "execution_count": 276,
   "metadata": {},
   "outputs": [],
   "source": [
    "def rotate_figure(i, arr):\n",
    "    sum = 0\n",
    "    if i<0:\n",
    "        return sum    \n",
    "    for j in range(len(arr)):\n",
    "        if(i <= j):\n",
    "            sum = sum + arr[j]*10\n",
    "            return sum\n",
    "        else:\n",
    "            sum = sum + arr[j]*10\n",
    "    return False"
   ]
  },
  {
   "cell_type": "code",
   "execution_count": 286,
   "metadata": {},
   "outputs": [],
   "source": [
    "def percentage_n_total(total, n):\n",
    "    return (n * 100)/ total"
   ]
  },
  {
   "cell_type": "code",
   "execution_count": 289,
   "metadata": {},
   "outputs": [
    {
     "data": {
      "text/plain": [
       "63.63636363636363"
      ]
     },
     "execution_count": 289,
     "metadata": {},
     "output_type": "execute_result"
    }
   ],
   "source": []
  },
  {
   "cell_type": "code",
   "execution_count": 301,
   "metadata": {},
   "outputs": [
    {
     "data": {
      "image/png": "[encoded data removed]",
      "text/plain": [
       "<Figure size 1200x500 with 2 Axes>"
      ]
     },
     "metadata": {},
     "output_type": "display_data"
    }
   ],
   "source": [
    "from matplotlib.patches import ConnectionPatch\n",
    "# make figure and assign axis objects\n",
    "fig, (ax1, ax2) = plt.subplots(1, 2, figsize=(12, 5))\n",
    "fig.subplots_adjust(wspace=.1)\n",
    "\n",
    "i=0\n",
    "# pie chart parameters\n",
    "overall_ratios = valores\n",
    "labels = etiquetas\n",
    "explode = np.zeros(len(overall_ratios))\n",
    "explode[i] = .1\n",
    "# rotate so that first wedge is split by the x-axis\n",
    "angle = - (3.6*rotate_figure(i-1,overall_ratios)/2) -(3.6*rotate_figure(i,overall_ratios) )/2 \n",
    "wedges, *_ = ax1.pie(overall_ratios, autopct='%1.1f%%', startangle=angle,\n",
    "                     labels=labels, explode=explode)\n",
    "color_rebanada = wedges[i].get_facecolor()\n",
    "\n",
    "# bar chart parameters\n",
    "age_ratios = [percentage(dashboard)[0][i], percentage(dashboard)[1][i]]\n",
    "age_labels = ['Con información', 'Sin información']\n",
    "bottom = 1\n",
    "width = .1\n",
    "\n",
    "# Adding from the top matches the legend.\n",
    "for j, (height, label) in enumerate(reversed([*zip(age_ratios, age_labels)])):\n",
    "    bottom -= height\n",
    "    bc = ax2.bar(0, height, width, bottom=bottom, color=color_rebanada, label=label,\n",
    "                 alpha=0.25 + 0.50 * j)\n",
    "    ax2.bar_label(bc, labels=[f\"{height:.0%}\"], label_type='center')\n",
    "\n",
    "source_info = ', '.join(map(str, dashboard['Source_information']))\n",
    "ax2.set_title(f\"Fuente de información: {source_info}\")\n",
    "ax2.legend()\n",
    "ax2.axis('off')\n",
    "ax2.set_xlim(- 2.5 * width, 2.5 * width)\n",
    "\n",
    "# use ConnectionPatch to draw lines between the two plots\n",
    "theta1, theta2 = wedges[i].theta1, wedges[i].theta2\n",
    "center, r = wedges[i].center, wedges[i].r\n",
    "bar_height = sum(age_ratios)\n",
    "\n",
    "# draw top connecting line\n",
    "x = r * np.cos(np.pi / 180 * theta2) + center[0]\n",
    "y = r * np.sin(np.pi / 180 * theta2) + center[1]\n",
    "con = ConnectionPatch(xyA=(-width / 2, bar_height), coordsA=ax2.transData,\n",
    "                      xyB=(x, y), coordsB=ax1.transData)\n",
    "con.set_color([0, 0, 0])\n",
    "con.set_linewidth(4)\n",
    "ax2.add_artist(con)\n",
    "\n",
    "# draw bottom connecting line\n",
    "x = r * np.cos(np.pi / 180 * theta1) + center[0]\n",
    "y = r * np.sin(np.pi / 180 * theta1) + center[1]\n",
    "con = ConnectionPatch(xyA=(-width / 2, 0), coordsA=ax2.transData,\n",
    "                      xyB=(x, y), coordsB=ax1.transData)\n",
    "con.set_color([0, 0, 0])\n",
    "ax2.add_artist(con)\n",
    "con.set_linewidth(4)\n",
    "\n",
    "plt.show()"
   ]
  },
  {
   "cell_type": "code",
   "execution_count": null,
   "metadata": {},
   "outputs": [],
   "source": []
  },
  {
   "cell_type": "code",
   "execution_count": 294,
   "metadata": {},
   "outputs": [
    {
     "name": "stdout",
     "output_type": "stream",
     "text": [
      "30\n",
      "0\n",
      "[3, 3]\n",
      "([1.0, 1.0], [0.0, 0.0])\n",
      "50.0\n",
      "\n",
      "Papeleria\n",
      "['Almacen' 'Toner'] \n",
      "[3, 3] \n"
     ]
    }
   ],
   "source": [
    "\n",
    "print(rotate_figure(i,overall_ratios))\n",
    "print(i)\n",
    "print(overall_ratios)\n",
    "print(percentage(dashboard))\n",
    "\n",
    "print()\n",
    "\n",
    "print(f\"\"\"\n",
    "{title}\n",
    "{etiquetas} \n",
    "{valores} \"\"\")"
   ]
  }
 ],
 "metadata": {
  "kernelspec": {
   "display_name": "venv",
   "language": "python",
   "name": "python3"
  },
  "language_info": {
   "codemirror_mode": {
    "name": "ipython",
    "version": 3
   },
   "file_extension": ".py",
   "mimetype": "text/x-python",
   "name": "python",
   "nbconvert_exporter": "python",
   "pygments_lexer": "ipython3",
   "version": "3.10.12"
  }
 },
 "nbformat": 4,
 "nbformat_minor": 2
}
