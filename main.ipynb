{
 "cells": [
  {
   "cell_type": "code",
   "execution_count": 2,
   "metadata": {},
   "outputs": [
    {
     "name": "stdout",
     "output_type": "stream",
     "text": [
      "Collecting pandas\n",
      "  Downloading pandas-2.1.1-cp310-cp310-manylinux_2_17_x86_64.manylinux2014_x86_64.whl (12.3 MB)\n",
      "\u001b[2K     \u001b[38;2;114;156;31m━━━━━━━━━━━━━━━━━━━━━━━━━━━━━━━━━━━━━━━━\u001b[0m \u001b[32m12.3/12.3 MB\u001b[0m \u001b[31m8.1 MB/s\u001b[0m eta \u001b[36m0:00:00\u001b[0mm eta \u001b[36m0:00:01\u001b[0m0:01\u001b[0m01\u001b[0m\n",
      "\u001b[?25hCollecting pytz>=2020.1\n",
      "  Downloading pytz-2023.3.post1-py2.py3-none-any.whl (502 kB)\n",
      "\u001b[2K     \u001b[38;2;114;156;31m━━━━━━━━━━━━━━━━━━━━━━━━━━━━━━━━━━━━━━━\u001b[0m \u001b[32m502.5/502.5 KB\u001b[0m \u001b[31m8.5 MB/s\u001b[0m eta \u001b[36m0:00:00\u001b[0mm eta \u001b[36m0:00:01\u001b[0m\n",
      "\u001b[?25hCollecting numpy>=1.22.4\n",
      "  Downloading numpy-1.26.1-cp310-cp310-manylinux_2_17_x86_64.manylinux2014_x86_64.whl (18.2 MB)\n",
      "\u001b[2K     \u001b[38;2;114;156;31m━━━━━━━━━━━━━━━━━━━━━━━━━━━━━━━━━━━━━━━━\u001b[0m \u001b[32m18.2/18.2 MB\u001b[0m \u001b[31m4.3 MB/s\u001b[0m eta \u001b[36m0:00:00\u001b[0mm eta \u001b[36m0:00:01\u001b[0m[36m0:00:01\u001b[0mm\n",
      "\u001b[?25hRequirement already satisfied: python-dateutil>=2.8.2 in ./venv/lib/python3.10/site-packages (from pandas) (2.8.2)\n",
      "Collecting tzdata>=2022.1\n",
      "  Using cached tzdata-2023.3-py2.py3-none-any.whl (341 kB)\n",
      "Requirement already satisfied: six>=1.5 in ./venv/lib/python3.10/site-packages (from python-dateutil>=2.8.2->pandas) (1.16.0)\n",
      "Installing collected packages: pytz, tzdata, numpy, pandas\n",
      "Successfully installed numpy-1.26.1 pandas-2.1.1 pytz-2023.3.post1 tzdata-2023.3\n",
      "Note: you may need to restart the kernel to use updated packages.\n"
     ]
    }
   ],
   "source": [
    "pip install pandas"
   ]
  },
  {
   "cell_type": "code",
   "execution_count": 7,
   "metadata": {},
   "outputs": [],
   "source": [
    "import pandas as pd"
   ]
  },
  {
   "cell_type": "code",
   "execution_count": 27,
   "metadata": {},
   "outputs": [],
   "source": [
    "df_data_all = pd.read_csv(\"./KPIs.csv\")"
   ]
  },
  {
   "cell_type": "code",
   "execution_count": 62,
   "metadata": {},
   "outputs": [],
   "source": [
    "# Elimino las últimas tres columnas\n",
    "df_data = df_data_all.iloc[ : , :-3]"
   ]
  },
  {
   "cell_type": "code",
   "execution_count": 64,
   "metadata": {},
   "outputs": [
    {
     "data": {
      "text/html": [
       "<div>\n",
       "<style scoped>\n",
       "    .dataframe tbody tr th:only-of-type {\n",
       "        vertical-align: middle;\n",
       "    }\n",
       "\n",
       "    .dataframe tbody tr th {\n",
       "        vertical-align: top;\n",
       "    }\n",
       "\n",
       "    .dataframe thead th {\n",
       "        text-align: right;\n",
       "    }\n",
       "</style>\n",
       "<table border=\"1\" class=\"dataframe\">\n",
       "  <thead>\n",
       "    <tr style=\"text-align: right;\">\n",
       "      <th></th>\n",
       "      <th>CATEGORIA</th>\n",
       "      <th>TEMA</th>\n",
       "      <th>DATO BUSCADO</th>\n",
       "      <th>¿Se tiene?</th>\n",
       "      <th>ORIGEN</th>\n",
       "      <th>Campo agregado</th>\n",
       "      <th>Nombre del campo</th>\n",
       "    </tr>\n",
       "  </thead>\n",
       "  <tbody>\n",
       "  </tbody>\n",
       "</table>\n",
       "</div>"
      ],
      "text/plain": [
       "Empty DataFrame\n",
       "Columns: [CATEGORIA, TEMA, DATO BUSCADO, ¿Se tiene?, ORIGEN, Campo agregado, Nombre del campo]\n",
       "Index: []"
      ]
     },
     "execution_count": 64,
     "metadata": {},
     "output_type": "execute_result"
    }
   ],
   "source": [
    "arr_columns = df_data.iloc[0:0,:]\n",
    "arr_columns"
   ]
  },
  {
   "cell_type": "markdown",
   "metadata": {},
   "source": [
    "## FILTRACIÓN POR LA COLUMNA CATEGORIA"
   ]
  },
  {
   "cell_type": "code",
   "execution_count": 69,
   "metadata": {},
   "outputs": [
    {
     "data": {
      "text/html": [
       "<div>\n",
       "<style scoped>\n",
       "    .dataframe tbody tr th:only-of-type {\n",
       "        vertical-align: middle;\n",
       "    }\n",
       "\n",
       "    .dataframe tbody tr th {\n",
       "        vertical-align: top;\n",
       "    }\n",
       "\n",
       "    .dataframe thead th {\n",
       "        text-align: right;\n",
       "    }\n",
       "</style>\n",
       "<table border=\"1\" class=\"dataframe\">\n",
       "  <thead>\n",
       "    <tr style=\"text-align: right;\">\n",
       "      <th></th>\n",
       "      <th>CATEGORIA</th>\n",
       "      <th>TEMA</th>\n",
       "      <th>DATO BUSCADO</th>\n",
       "      <th>¿Se tiene?</th>\n",
       "      <th>ORIGEN</th>\n",
       "      <th>Campo agregado</th>\n",
       "      <th>Nombre del campo</th>\n",
       "    </tr>\n",
       "  </thead>\n",
       "  <tbody>\n",
       "    <tr>\n",
       "      <th>64</th>\n",
       "      <td>TI</td>\n",
       "      <td>Equipos de computo</td>\n",
       "      <td>Equipo total de equipos de cómputo por área</td>\n",
       "      <td>No</td>\n",
       "      <td>Facturación, Inventario y Adquisicón</td>\n",
       "      <td>No</td>\n",
       "      <td>NaN</td>\n",
       "    </tr>\n",
       "    <tr>\n",
       "      <th>65</th>\n",
       "      <td>TI</td>\n",
       "      <td>Equipos de computo</td>\n",
       "      <td>Equipo total de equipos de cómputo</td>\n",
       "      <td>No</td>\n",
       "      <td>Facturación, Inventario y Adquisicón</td>\n",
       "      <td>No</td>\n",
       "      <td>NaN</td>\n",
       "    </tr>\n",
       "    <tr>\n",
       "      <th>66</th>\n",
       "      <td>TI</td>\n",
       "      <td>Equipos de computo</td>\n",
       "      <td>Ver el total de equipos de computo por cada sala.</td>\n",
       "      <td>No</td>\n",
       "      <td>Facturación, Inventario y Adquisicón</td>\n",
       "      <td>No</td>\n",
       "      <td>NaN</td>\n",
       "    </tr>\n",
       "    <tr>\n",
       "      <th>67</th>\n",
       "      <td>TI</td>\n",
       "      <td>Equipos de computo</td>\n",
       "      <td>Ver el total de equipos de computo por cada se...</td>\n",
       "      <td>No</td>\n",
       "      <td>Facturación, Inventario y Adquisicón</td>\n",
       "      <td>No</td>\n",
       "      <td>NaN</td>\n",
       "    </tr>\n",
       "    <tr>\n",
       "      <th>68</th>\n",
       "      <td>TI</td>\n",
       "      <td>Equipos de computo</td>\n",
       "      <td>Ver el total de cómputo por cada dirección</td>\n",
       "      <td>No</td>\n",
       "      <td>Facturación, Inventario y Adquisicón</td>\n",
       "      <td>No</td>\n",
       "      <td>NaN</td>\n",
       "    </tr>\n",
       "    <tr>\n",
       "      <th>69</th>\n",
       "      <td>TI</td>\n",
       "      <td>Equipos de computo</td>\n",
       "      <td>Ver el porcentaje de los diferentes tipos de c...</td>\n",
       "      <td>No</td>\n",
       "      <td>Facturación, Inventario y Adquisicón</td>\n",
       "      <td>No</td>\n",
       "      <td>NaN</td>\n",
       "    </tr>\n",
       "    <tr>\n",
       "      <th>70</th>\n",
       "      <td>TI</td>\n",
       "      <td>Equipos de computo</td>\n",
       "      <td>Ver el total de los diferentes tipos de cómputo</td>\n",
       "      <td>No</td>\n",
       "      <td>Facturación, Inventario y Adquisicón</td>\n",
       "      <td>No</td>\n",
       "      <td>NaN</td>\n",
       "    </tr>\n",
       "    <tr>\n",
       "      <th>71</th>\n",
       "      <td>TI</td>\n",
       "      <td>Equipos de computo</td>\n",
       "      <td>Ver el porcentaje de los equipos de cómputo ba...</td>\n",
       "      <td>No</td>\n",
       "      <td>Facturación, Inventario y Adquisicón</td>\n",
       "      <td>No</td>\n",
       "      <td>NaN</td>\n",
       "    </tr>\n",
       "    <tr>\n",
       "      <th>72</th>\n",
       "      <td>TI</td>\n",
       "      <td>Equipos de computo</td>\n",
       "      <td>Ver el total de los equipos de cómputo bajo ar...</td>\n",
       "      <td>No</td>\n",
       "      <td>Facturación, Inventario y Adquisicón</td>\n",
       "      <td>No</td>\n",
       "      <td>NaN</td>\n",
       "    </tr>\n",
       "  </tbody>\n",
       "</table>\n",
       "</div>"
      ],
      "text/plain": [
       "   CATEGORIA                TEMA  \\\n",
       "64        TI  Equipos de computo   \n",
       "65        TI  Equipos de computo   \n",
       "66        TI  Equipos de computo   \n",
       "67        TI  Equipos de computo   \n",
       "68        TI  Equipos de computo   \n",
       "69        TI  Equipos de computo   \n",
       "70        TI  Equipos de computo   \n",
       "71        TI  Equipos de computo   \n",
       "72        TI  Equipos de computo   \n",
       "\n",
       "                                         DATO BUSCADO ¿Se tiene?  \\\n",
       "64        Equipo total de equipos de cómputo por área         No   \n",
       "65                 Equipo total de equipos de cómputo         No   \n",
       "66  Ver el total de equipos de computo por cada sala.         No   \n",
       "67  Ver el total de equipos de computo por cada se...         No   \n",
       "68         Ver el total de cómputo por cada dirección         No   \n",
       "69  Ver el porcentaje de los diferentes tipos de c...         No   \n",
       "70    Ver el total de los diferentes tipos de cómputo         No   \n",
       "71  Ver el porcentaje de los equipos de cómputo ba...         No   \n",
       "72  Ver el total de los equipos de cómputo bajo ar...         No   \n",
       "\n",
       "                                  ORIGEN Campo agregado Nombre del campo  \n",
       "64  Facturación, Inventario y Adquisicón             No              NaN  \n",
       "65  Facturación, Inventario y Adquisicón             No              NaN  \n",
       "66  Facturación, Inventario y Adquisicón             No              NaN  \n",
       "67  Facturación, Inventario y Adquisicón             No              NaN  \n",
       "68  Facturación, Inventario y Adquisicón             No              NaN  \n",
       "69  Facturación, Inventario y Adquisicón             No              NaN  \n",
       "70  Facturación, Inventario y Adquisicón             No              NaN  \n",
       "71  Facturación, Inventario y Adquisicón             No              NaN  \n",
       "72  Facturación, Inventario y Adquisicón             No              NaN  "
      ]
     },
     "execution_count": 69,
     "metadata": {},
     "output_type": "execute_result"
    }
   ],
   "source": [
    "df_data[df_data['CATEGORIA'] == 'TI']"
   ]
  }
 ],
 "metadata": {
  "kernelspec": {
   "display_name": "venv",
   "language": "python",
   "name": "python3"
  },
  "language_info": {
   "codemirror_mode": {
    "name": "ipython",
    "version": 3
   },
   "file_extension": ".py",
   "mimetype": "text/x-python",
   "name": "python",
   "nbconvert_exporter": "python",
   "pygments_lexer": "ipython3",
   "version": "3.10.12"
  }
 },
 "nbformat": 4,
 "nbformat_minor": 2
}
